{
 "cells": [
  {
   "cell_type": "code",
   "execution_count": 1,
   "metadata": {},
   "outputs": [],
   "source": [
    "import pandas as pd\n",
    "import numpy as np\n",
    "import time\n",
    "import matplotlib.pyplot as plt "
   ]
  },
  {
   "cell_type": "markdown",
   "metadata": {},
   "source": [
    "ACTIVATION FUNCTIONS"
   ]
  },
  {
   "cell_type": "code",
   "execution_count": 3,
   "metadata": {},
   "outputs": [],
   "source": [
    "\n",
    "##1.Sigmoid Activation Function \n",
    "def sig(z):\n",
    "    s=1/(1+np.exp(-z))\n",
    "    return s\n",
    "\n",
    "def dsig(s):\n",
    "    das=s*(1-s)\n",
    "    return das\n",
    "\n",
    "\n",
    "##TANH ACTIVATION FUNCTION\n",
    "def tanh(z):\n",
    "    s= (np.exp(z)-np.exp(-z))/(np.exp(z)+np.exp(-z))\n",
    "    return s\n",
    "\n",
    "def dtanh(s):\n",
    "    dat=(1-s**2)\n",
    "    return dat\n",
    "\n",
    "\n",
    "##Relu activation function \n",
    "def relu(z):\n",
    "    s=np.maximum(0,z)\n",
    "    return s \n",
    "\n",
    "def drelu(s):\n",
    "    dar=(np.int64(s>0))\n",
    "    return dar\n",
    "\n",
    "##Leaky Relu \n",
    "def lrelu(z):\n",
    "    s=np.maximum(0.01*z,z)     ## we can also take 0.01\n",
    "    return s \n",
    "\n",
    "def dlrelu(s,alpha=0.01):\n",
    "    dal=(np.where(s>0,1,alpha))\n",
    "    return dal\n",
    "\n",
    "\n",
    "##Softmax (similar as sigmoid , with multiple dimension and used for multiclass)\n",
    "def softmax(z):\n",
    "    e = np.exp(z)\n",
    "    s=e/np.sum(e)\n",
    "    return s\n"
   ]
  },
  {
   "cell_type": "code",
   "execution_count": 4,
   "metadata": {},
   "outputs": [
    {
     "name": "stdout",
     "output_type": "stream",
     "text": [
      "[[ 0.89210364  0.2812165  -1.0763155 ]\n",
      " [-0.25434658 -0.14203968 -2.73456167]]\n",
      "[[False  True False]]\n"
     ]
    },
    {
     "data": {
      "text/plain": [
       "3"
      ]
     },
     "execution_count": 4,
     "metadata": {},
     "output_type": "execute_result"
    }
   ],
   "source": [
    "\n",
    "X=np.random.randn(2,3)\n",
    "print(X)\n",
    "y = (np.random.randn(1,3)>0)   ## if > 0 its true or else its false\n",
    "print(y)\n",
    "y.shape[1]"
   ]
  },
  {
   "cell_type": "markdown",
   "metadata": {},
   "source": [
    "FORWARD PROPAGATION"
   ]
  },
  {
   "cell_type": "code",
   "execution_count": 5,
   "metadata": {},
   "outputs": [],
   "source": [
    "##Forward Propagation\n",
    "\n",
    "##DEFINE THE SHAPE \n",
    "def layers_size(X,y,node):\n",
    "    n_x=X.shape[0]\n",
    "    n_h= node\n",
    "    n_y=y.shape[0]\n",
    "    return n_x,n_y,n_h\n",
    "\n",
    "np.random.seed(2)\n",
    "\n",
    "#initialization \n",
    "def intz(n_x,n_y,n_h):\n",
    "    w1=np.random.randn(n_h,n_x)*0.01   ##0.01 value chota krne liya hai , can be ignored \n",
    "    b1= np.zeros((n_h,1))\n",
    "    w2=np.random.randn(n_y,n_h)*0.01\n",
    "    b2= np.zeros((n_y,1))   \n",
    "    \n",
    "    parameters = {\"w1\":w1,\"b1\":b1,\"w2\":w2,\"b2\":b2}   ##for ease \n",
    "    return parameters \n",
    "\n",
    "\n",
    "##Forward Propogation \n",
    "def fwd(X,parameters):\n",
    "    w1=parameters[\"w1\"]\n",
    "    b1=parameters[\"b1\"]\n",
    "    w2=parameters[\"w2\"]\n",
    "    b2=parameters[\"b2\"]\n",
    "    \n",
    "    z1= np.dot(w1,X)+b1\n",
    "    a1=tanh(z1)  ## np.tanh\n",
    "    z2=np.dot(w2,a1)+b2\n",
    "    a2=np.array(sig(z2))\n",
    "    \n",
    "    cache={\"z1\":z1,\"a1\":a1,\"z2\":z2,\"a2\":a2}\n",
    "    return a2,cache \n",
    "\n",
    "##COST \n",
    "def compute_cost(a2,y):\n",
    "    m= y.shape[1]\n",
    "    logp =np.multiply(np.log(a2),y)+np.multiply(np.log(1-a2),(1-y))\n",
    "    cost = -np.sum(logp)/m\n",
    "    cost = float(np.squeeze(cost))    ## optional \n",
    "    return cost \n",
    "    \n"
   ]
  },
  {
   "cell_type": "code",
   "execution_count": 6,
   "metadata": {},
   "outputs": [],
   "source": [
    "a,b,c = layers_size(X,y,4)  ##4 nodes"
   ]
  },
  {
   "cell_type": "code",
   "execution_count": 7,
   "metadata": {},
   "outputs": [
    {
     "data": {
      "text/plain": [
       "{'w1': array([[-0.00416758, -0.00056267],\n",
       "        [-0.02136196,  0.01640271],\n",
       "        [-0.01793436, -0.00841747],\n",
       "        [ 0.00502881, -0.01245288]]),\n",
       " 'b1': array([[0.],\n",
       "        [0.],\n",
       "        [0.],\n",
       "        [0.]]),\n",
       " 'w2': array([[-0.01057952, -0.00909008,  0.00551454,  0.02292208]]),\n",
       " 'b2': array([[0.]])}"
      ]
     },
     "execution_count": 7,
     "metadata": {},
     "output_type": "execute_result"
    }
   ],
   "source": [
    "parameters = intz(a,b,c)\n",
    "parameters"
   ]
  },
  {
   "cell_type": "code",
   "execution_count": 8,
   "metadata": {},
   "outputs": [
    {
     "data": {
      "text/plain": [
       "{'z1': array([[-0.0035748 , -0.00109207,  0.00602428],\n",
       "        [-0.02322906, -0.00833717, -0.02186201],\n",
       "        [-0.01385835, -0.00384782,  0.04232113],\n",
       "        [ 0.00765357,  0.00318299,  0.02864058]]),\n",
       " 'a1': array([[-0.00357478, -0.00109207,  0.00602421],\n",
       "        [-0.02322488, -0.00833698, -0.02185852],\n",
       "        [-0.01385746, -0.0038478 ,  0.04229588],\n",
       "        [ 0.00765342,  0.00318298,  0.02863275]]),\n",
       " 'z2': array([[0.00034795, 0.00013908, 0.00102453]]),\n",
       " 'a2': array([[0.50008699, 0.50003477, 0.50025613]])}"
      ]
     },
     "execution_count": 8,
     "metadata": {},
     "output_type": "execute_result"
    }
   ],
   "source": [
    "a2 , cache = fwd(X,parameters)\n",
    "cache"
   ]
  },
  {
   "cell_type": "code",
   "execution_count": 9,
   "metadata": {},
   "outputs": [
    {
     "data": {
      "text/plain": [
       "0.6933527965194051"
      ]
     },
     "execution_count": 9,
     "metadata": {},
     "output_type": "execute_result"
    }
   ],
   "source": [
    "cost =compute_cost(a2,y)\n",
    "cost"
   ]
  },
  {
   "cell_type": "markdown",
   "metadata": {},
   "source": [
    "BACK PROPAGATION "
   ]
  },
  {
   "cell_type": "code",
   "execution_count": 10,
   "metadata": {},
   "outputs": [],
   "source": [
    "#Backward Propagation\n",
    "def BWP(parameters,X,y,cache):\n",
    "    w1=parameters[\"w1\"]\n",
    "    b1=parameters[\"b1\"]\n",
    "    w2=parameters[\"w2\"]\n",
    "    b2=parameters[\"b2\"]\n",
    "    \n",
    "    a1= cache[\"a1\"]\n",
    "    a2= cache[\"a2\"]\n",
    "    \n",
    "    m=y.shape[1]  ##y.size\n",
    "    \n",
    "    dz2=a2-y\n",
    "    dw2 = np.dot(dz2,a1.T)/m\n",
    "    db2=np.sum(dz2,axis=1,keepdims=True)/m\n",
    "    da1= np.dot(w2.T,dz2)\n",
    "    dz1= da1*(1-a1**2) ##np.power(a1,2) , dtanh(a1)\n",
    "    dw1=np.dot(dz1,X.T)/m\n",
    "    db1=np.sum(dz1,axis=1,keepdims=True)/m\n",
    "    \n",
    "    grades = {\"dw1\":dw1,\"db1\":db1,\"dw2\":dw2,\"db2\":db2}\n",
    "    return grades\n",
    "\n",
    "#7.Update Grades\n",
    "def update(parameters,grades,lr=0.01):\n",
    "    w1=parameters[\"w1\"]\n",
    "    b1=parameters[\"b1\"]\n",
    "    w2=parameters[\"w2\"]\n",
    "    b2=parameters[\"b2\"]\n",
    "\n",
    "    dw1=grades[\"dw1\"]\n",
    "    db1=grades[\"db1\"]\n",
    "    dw2=grades[\"dw2\"]\n",
    "    db2=grades[\"db2\"]\n",
    "\n",
    "\n",
    "    w1=w1-lr*dw1\n",
    "    b1=b1-lr*db1\n",
    "    w2=w2-lr*dw2\n",
    "    b2=b2-lr*db2\n",
    "\n",
    "    parameters={\"w1\":w1,\"b1\":b1,\"w2\":w2,\"b2\":b2}\n",
    "\n",
    "    return parameters"
   ]
  },
  {
   "cell_type": "code",
   "execution_count": 11,
   "metadata": {},
   "outputs": [
    {
     "data": {
      "text/plain": [
       "{'dw1': array([[ 0.00082128,  0.00502214],\n",
       "        [ 0.00070562,  0.00431307],\n",
       "        [-0.0004265 , -0.00261332],\n",
       "        [-0.00177635, -0.01087296]]),\n",
       " 'db1': array([[-0.0017645 ],\n",
       "        [-0.00151472],\n",
       "        [ 0.00091798],\n",
       "        [ 0.00381992]]),\n",
       " 'dw2': array([[ 0.00059065, -0.00612704,  0.0053842 ,  0.0055199 ]]),\n",
       " 'db2': array([[0.16679263]])}"
      ]
     },
     "execution_count": 11,
     "metadata": {},
     "output_type": "execute_result"
    }
   ],
   "source": [
    "grades=BWP(parameters,X,y,cache)\n",
    "grades"
   ]
  },
  {
   "cell_type": "code",
   "execution_count": 12,
   "metadata": {},
   "outputs": [
    {
     "name": "stdout",
     "output_type": "stream",
     "text": [
      "{'w1': array([[-0.00417579, -0.00061289],\n",
      "       [-0.02136902,  0.01635958],\n",
      "       [-0.01793009, -0.00839134],\n",
      "       [ 0.00504658, -0.01234415]]), 'b1': array([[ 1.76450187e-05],\n",
      "       [ 1.51472143e-05],\n",
      "       [-9.17976746e-06],\n",
      "       [-3.81991525e-05]]), 'w2': array([[-0.01058543, -0.00902881,  0.0054607 ,  0.02286688]]), 'b2': array([[-0.00166793]])}\n"
     ]
    }
   ],
   "source": [
    "parameters=update(parameters,grades,lr=0.01)\n",
    "print(parameters)"
   ]
  },
  {
   "cell_type": "code",
   "execution_count": 13,
   "metadata": {},
   "outputs": [],
   "source": [
    "##CREATE OWN NN\n",
    "def NN(X,y,itr=10000,print_cost=True,layers=4):\n",
    "    np.random.seed(3)\n",
    "    n_x,n_h,n_y=layers_size(X, y,layers)\n",
    "    parameters=intz(n_x, n_h, n_y)\n",
    "\n",
    "    for i in range (itr):\n",
    "        a2, cache = fwd(X, parameters)\n",
    "        cost=compute_cost(a2, y)\n",
    "        grades=BWP(parameters,X,y,cache)\n",
    "        parameters=update(parameters,grades,lr=0.01)\n",
    "\n",
    "        if print_cost and i%100==0:\n",
    "            print(f\"cost{i}: {cost}\")\n",
    "            \n",
    "    return parameters"
   ]
  },
  {
   "cell_type": "code",
   "execution_count": 14,
   "metadata": {},
   "outputs": [
    {
     "name": "stdout",
     "output_type": "stream",
     "text": [
      "cost0: 0.6931088338321277\n",
      "cost100: 0.671042850253247\n",
      "cost200: 0.65743313529991\n",
      "cost300: 0.6486991062747438\n",
      "cost400: 0.6425295126261946\n",
      "cost500: 0.6372822237842959\n",
      "cost600: 0.6316686686419338\n",
      "cost700: 0.6247302772848742\n",
      "cost800: 0.616023876465022\n",
      "cost900: 0.6056916943941218\n",
      "cost1000: 0.5941914098971292\n",
      "cost1100: 0.5819446472745855\n",
      "cost1200: 0.5692054882660894\n",
      "cost1300: 0.5561010540732704\n",
      "cost1400: 0.5426876833129942\n",
      "cost1500: 0.528967470846709\n",
      "cost1600: 0.514882754938318\n",
      "cost1700: 0.5003160741180636\n",
      "cost1800: 0.4851085061118905\n",
      "cost1900: 0.4690931879270996\n",
      "cost2000: 0.4521323892386781\n",
      "cost2100: 0.4341471303710605\n",
      "cost2200: 0.41513405333275966\n",
      "cost2300: 0.39516995658136916\n",
      "cost2400: 0.37440712193701714\n",
      "cost2500: 0.353062298587842\n",
      "cost2600: 0.3314008537814525\n",
      "cost2700: 0.3097169808106262\n",
      "cost2800: 0.2883114195527962\n",
      "cost2900: 0.2674691468675357\n",
      "cost3000: 0.24743999576658915\n",
      "cost3100: 0.2284247336422297\n",
      "cost3200: 0.2105679368810038\n",
      "cost3300: 0.19395754809399948\n",
      "cost3400: 0.17862981503115935\n",
      "cost3500: 0.1645776908897241\n",
      "cost3600: 0.1517607442345291\n",
      "cost3700: 0.14011500318487397\n",
      "cost3800: 0.1295617034529191\n",
      "cost3900: 0.12001443204459895\n",
      "cost4000: 0.11138455579596462\n",
      "cost4100: 0.10358507219209666\n",
      "cost4200: 0.0965331410145785\n",
      "cost4300: 0.09015158785841378\n",
      "cost4400: 0.0843696514298203\n",
      "cost4500: 0.079123203560929\n",
      "cost4600: 0.0743546216974416\n",
      "cost4700: 0.07001244775782985\n",
      "cost4800: 0.06605092881086519\n",
      "cost4900: 0.062429504880120446\n",
      "cost5000: 0.05911228667705781\n",
      "cost5100: 0.0560675498841007\n",
      "cost5200: 0.05326726135357595\n",
      "cost5300: 0.05068664500150164\n",
      "cost5400: 0.04830379023129631\n",
      "cost5500: 0.04609930263100243\n",
      "cost5600: 0.044055994862550074\n",
      "cost5700: 0.042158614681224386\n",
      "cost5800: 0.040393606591401704\n",
      "cost5900: 0.038748903556572865\n",
      "cost6000: 0.037213745299738976\n",
      "cost6100: 0.035778519963016994\n",
      "cost6200: 0.0344346261835581\n",
      "cost6300: 0.033174352949385075\n",
      "cost6400: 0.03199077490092641\n",
      "cost6500: 0.030877661029006218\n",
      "cost6600: 0.02982939498124912\n",
      "cost6700: 0.028840905423645005\n",
      "cost6800: 0.027907605112210677\n",
      "cost6900: 0.02702533751245909\n",
      "cost7000: 0.026190329963722822\n",
      "cost7100: 0.025399152523544247\n",
      "cost7200: 0.024648681746703042\n",
      "cost7300: 0.023936068756295618\n",
      "cost7400: 0.023258711052718\n",
      "cost7500: 0.022614227582381557\n",
      "cost7600: 0.022000436653206237\n",
      "cost7700: 0.02141533633991553\n",
      "cost7800: 0.02085708707020342\n",
      "cost7900: 0.020323996124102246\n",
      "cost8000: 0.01981450381433542\n",
      "cost8100: 0.01932717114591859\n",
      "cost8200: 0.018860668779516407\n",
      "cost8300: 0.01841376714566607\n",
      "cost8400: 0.017985327576482725\n",
      "cost8500: 0.017574294338301533\n",
      "cost8600: 0.017179687463278755\n",
      "cost8700: 0.016800596290581803\n",
      "cost8800: 0.01643617363873766\n",
      "cost8900: 0.016085630540200246\n",
      "cost9000: 0.015748231477454033\n",
      "cost9100: 0.015423290067161336\n",
      "cost9200: 0.015110165145126612\n",
      "cost9300: 0.014808257210326735\n",
      "cost9400: 0.014517005191041661\n",
      "cost9500: 0.014235883500311583\n",
      "cost9600: 0.013964399351623843\n",
      "cost9700: 0.013702090308959636\n",
      "cost9800: 0.013448522048169202\n",
      "cost9900: 0.013203286309147258\n"
     ]
    },
    {
     "data": {
      "text/plain": [
       "{'w1': array([[-0.9857339 ,  0.97572892],\n",
       "        [ 1.86351992, -1.60834794],\n",
       "        [ 1.64924855, -1.45093869],\n",
       "        [-0.49067231,  0.59699412]]),\n",
       " 'b1': array([[ 0.73566991],\n",
       "        [-1.3871144 ],\n",
       "        [-1.2284607 ],\n",
       "        [ 0.34460333]]),\n",
       " 'w2': array([[ 1.67319922, -3.13995004, -2.76007115,  0.88630804]]),\n",
       " 'b2': array([[0.0752462]])}"
      ]
     },
     "execution_count": 14,
     "metadata": {},
     "output_type": "execute_result"
    }
   ],
   "source": [
    "NN(X,y)"
   ]
  },
  {
   "cell_type": "code",
   "execution_count": null,
   "metadata": {},
   "outputs": [],
   "source": []
  }
 ],
 "metadata": {
  "kernelspec": {
   "display_name": "Python 3",
   "language": "python",
   "name": "python3"
  },
  "language_info": {
   "codemirror_mode": {
    "name": "ipython",
    "version": 3
   },
   "file_extension": ".py",
   "mimetype": "text/x-python",
   "name": "python",
   "nbconvert_exporter": "python",
   "pygments_lexer": "ipython3",
   "version": "3.12.3"
  }
 },
 "nbformat": 4,
 "nbformat_minor": 2
}
